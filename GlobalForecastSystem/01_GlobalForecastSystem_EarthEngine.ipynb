{
 "cells": [
  {
   "cell_type": "code",
   "execution_count": 1,
   "id": "23546983-f498-44f4-bea3-4864eeb530a6",
   "metadata": {},
   "outputs": [],
   "source": [
    "import ee\n",
    "import geemap\n",
    "\n",
    "import pandas"
   ]
  },
  {
   "cell_type": "code",
   "execution_count": 2,
   "id": "cc7732fd-2e0f-416f-905e-92cbbc34af84",
   "metadata": {},
   "outputs": [],
   "source": [
    "ee.Initialize()"
   ]
  },
  {
   "cell_type": "code",
   "execution_count": 3,
   "id": "1d401c7e-ff38-4713-81b3-d707c8bc202b",
   "metadata": {},
   "outputs": [],
   "source": [
    "from datetime import date, datetime\n",
    "\n",
    "# Forecast generated today on 6 UTC\n",
    "today = date.today()\n",
    "forecast = datetime(today.year, today.month, today.day, hour = 6) \\\n",
    "    .strftime('%Y%m%d%H')\n",
    "\n",
    "image_name = f'NOAA/GFS0P25/{forecast}F024'"
   ]
  },
  {
   "cell_type": "code",
   "execution_count": 4,
   "id": "763aa7a9-3691-4ef6-81a2-7c86b2509f9e",
   "metadata": {
    "tags": []
   },
   "outputs": [],
   "source": [
    "data = ee.Image(image_name)"
   ]
  },
  {
   "cell_type": "code",
   "execution_count": 5,
   "id": "419253e8-c8a1-4f26-a1aa-dd782046184d",
   "metadata": {},
   "outputs": [],
   "source": [
    "rain = data.select('total_precipitation_surface')\n",
    "rain = rain.updateMask(rain.gt(0.5))"
   ]
  },
  {
   "cell_type": "code",
   "execution_count": 6,
   "id": "e3c1adf4-9118-490d-95d1-885bc08e9821",
   "metadata": {},
   "outputs": [],
   "source": [
    "Map = geemap.Map()"
   ]
  },
  {
   "cell_type": "code",
   "execution_count": 7,
   "id": "304df081-9fc9-4ec2-99f9-0a88e6c75856",
   "metadata": {},
   "outputs": [],
   "source": [
    "vis_params = {\n",
    "    'min' : 0,\n",
    "    'max' : 150,\n",
    "    'palette' : ['blue', 'green', 'yellow', 'red']\n",
    "}\n",
    "Map.addLayer(rain, vis_params, '24 Hour Rain Forecast')"
   ]
  },
  {
   "cell_type": "code",
   "execution_count": 8,
   "id": "8945cae4-fcb2-4fbc-adae-539434efb076",
   "metadata": {},
   "outputs": [
    {
     "data": {
      "application/vnd.jupyter.widget-view+json": {
       "model_id": "7a4cd88ec131478badcb0e39ab6faaff",
       "version_major": 2,
       "version_minor": 0
      },
      "text/plain": [
       "Map(center=[40, -100], controls=(WidgetControl(options=['position', 'transparent_bg'], widget=HBox(children=(T…"
      ]
     },
     "metadata": {},
     "output_type": "display_data"
    }
   ],
   "source": [
    "Map"
   ]
  },
  {
   "cell_type": "code",
   "execution_count": null,
   "id": "0a731c02-64a4-46ee-ad00-726f1c6ac1fa",
   "metadata": {},
   "outputs": [],
   "source": []
  }
 ],
 "metadata": {
  "kernelspec": {
   "display_name": "Python 3 (ipykernel)",
   "language": "python",
   "name": "python3"
  },
  "language_info": {
   "codemirror_mode": {
    "name": "ipython",
    "version": 3
   },
   "file_extension": ".py",
   "mimetype": "text/x-python",
   "name": "python",
   "nbconvert_exporter": "python",
   "pygments_lexer": "ipython3",
   "version": "3.9.5"
  }
 },
 "nbformat": 4,
 "nbformat_minor": 5
}
