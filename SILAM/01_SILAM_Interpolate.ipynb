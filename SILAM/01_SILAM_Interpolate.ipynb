{
 "cells": [
  {
   "cell_type": "code",
   "execution_count": 10,
   "source": [
    "from siphon.catalog import TDSCatalog\n",
    "import xarray as xr\n",
    "import rioxarray as rxr\n",
    "\n",
    "from google.cloud import storage\n",
    "from datetime import datetime, date, timedelta\n",
    "import os"
   ],
   "outputs": [],
   "metadata": {}
  },
  {
   "cell_type": "code",
   "execution_count": 11,
   "source": [
    "os.environ['WEST'] = '90.0'\n",
    "os.environ['EAST'] = '150.0'\n",
    "os.environ['SOUTH'] = '-15.0'\n",
    "os.environ['NORTH'] = '15.0'\n",
    "os.environ['VARIABLE'] = 'daymean_cnc_PM2_5'"
   ],
   "outputs": [],
   "metadata": {}
  },
  {
   "cell_type": "code",
   "execution_count": 12,
   "source": [
    "# Observation time\n",
    "obs = date.today()\n",
    "obs_time = datetime(obs.year, obs.month, obs.day, 12, 30)\n",
    "\n",
    "URL = 'http://silam.fmi.fi/thredds/catalog/dailysilam_glob_v5_7_1/catalog.xml'\n",
    "catalog = TDSCatalog(URL)"
   ],
   "outputs": [],
   "metadata": {}
  },
  {
   "cell_type": "code",
   "execution_count": 13,
   "source": [
    "# NetCDF Subset Service\n",
    "ncss = catalog.datasets[0].subset()\n",
    "\n",
    "# Query boundary box and variable\n",
    "variable = os.environ.get('VARIABLE')\n",
    "west = float(os.environ.get('WEST'))\n",
    "east = float(os.environ.get('EAST'))\n",
    "south = float(os.environ.get('SOUTH'))\n",
    "north = float(os.environ.get('NORTH'))\n",
    "\n",
    "# Create subset query\n",
    "query = ncss.query()\n",
    "query.variables(variable).time(obs)\n",
    "query.lonlat_box(west=west, east=east, south=south, north=north)\n",
    "data = xr.backends.NetCDF4DataStore(ncss.get_data(query))\n",
    "\n",
    "ds = xr.open_dataset(data).isel(time = 0) \\\n",
    "    .isel(hybrid = 0, drop = True)"
   ],
   "outputs": [],
   "metadata": {}
  },
  {
   "cell_type": "code",
   "execution_count": 14,
   "source": [
    "import numpy as np"
   ],
   "outputs": [],
   "metadata": {}
  },
  {
   "cell_type": "code",
   "execution_count": 15,
   "source": [
    "new_lon = np.linspace(ds.lon[0], ds.lon[-1], 60 * 20 + 1)\n",
    "new_lat = np.linspace(ds.lat[0], ds.lat[-1], 30 * 20 + 1)"
   ],
   "outputs": [],
   "metadata": {}
  },
  {
   "cell_type": "code",
   "execution_count": 7,
   "source": [
    "dsi = ds.interp(lat = new_lat, lon = new_lon)"
   ],
   "outputs": [],
   "metadata": {}
  },
  {
   "cell_type": "code",
   "execution_count": 8,
   "source": [
    "date_str = obs.strftime('%Y%m%d')\n",
    "fname = f'pm25_{date_str}_interp.tif'\n",
    "\n",
    "concentration = dsi[variable]\n",
    "concentration.rio.set_spatial_dims('lon', 'lat', inplace=True)\n",
    "concentration.rio.set_crs(4326, inplace=True)\n",
    "concentration.rio.to_raster(fname)"
   ],
   "outputs": [],
   "metadata": {}
  },
  {
   "cell_type": "code",
   "execution_count": 9,
   "source": [
    "os.system(f'rio cogeo create {fname} {fname}')\n",
    "\n",
    "client = storage.Client.from_service_account_json('neonet-sentinel-privatekey.json')\n",
    "bucket = client.bucket('silam-neonet-rasters')\n",
    "blob = bucket.blob(fname)\n",
    "blob.upload_from_filename(fname)\n",
    "\n",
    "os.remove(fname)"
   ],
   "outputs": [
    {
     "output_type": "stream",
     "name": "stderr",
     "text": [
      "/home/josef/miniconda3/envs/geo/lib/python3.9/site-packages/rio_cogeo/cogeo.py:189: IncompatibleBlockRasterSize: Block Size are bigger than raster sizes. Setting blocksize to 256\n",
      "  warnings.warn(\n",
      "Reading input: /home/josef/Documents/Git/GeospatialPython/SILAM/pm25_20210718_interp.tif\n",
      "Adding overviews...\n",
      "Updating dataset tags...\n",
      "Writing output to: /home/josef/Documents/Git/GeospatialPython/SILAM/pm25_20210718_interp.tif\n"
     ]
    }
   ],
   "metadata": {}
  }
 ],
 "metadata": {
  "kernelspec": {
   "display_name": "Python 3 (ipykernel)",
   "language": "python",
   "name": "python3"
  },
  "language_info": {
   "codemirror_mode": {
    "name": "ipython",
    "version": 3
   },
   "file_extension": ".py",
   "mimetype": "text/x-python",
   "name": "python",
   "nbconvert_exporter": "python",
   "pygments_lexer": "ipython3",
   "version": "3.9.5"
  }
 },
 "nbformat": 4,
 "nbformat_minor": 5
}