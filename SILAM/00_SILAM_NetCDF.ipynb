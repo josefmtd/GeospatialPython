{
 "cells": [
  {
   "cell_type": "code",
   "execution_count": 1,
   "id": "de177e23-924b-4131-a784-147c06466dd8",
   "metadata": {},
   "outputs": [],
   "source": [
    "from siphon.catalog import TDSCatalog\n",
    "from xarray.backends import NetCDF4DataStore\n",
    "import xarray as xr\n",
    "import rioxarray as rxr\n",
    "\n",
    "from datetime import datetime, date, timedelta\n",
    "import os"
   ]
  },
  {
   "cell_type": "code",
   "execution_count": 2,
   "id": "f75c0e1f-ef60-48be-9711-d6eaac267aa5",
   "metadata": {},
   "outputs": [],
   "source": [
    "os.environ['WEST'] = '90.0'\n",
    "os.environ['EAST'] = '150.0'\n",
    "os.environ['SOUTH'] = '-15.0'\n",
    "os.environ['NORTH'] = '15.0'"
   ]
  },
  {
   "cell_type": "code",
   "execution_count": 3,
   "id": "8897f73e-bc6c-4f5a-85f9-4b98bc1d0851",
   "metadata": {},
   "outputs": [],
   "source": [
    "def get_nitrogen_dioxide(obs_time):\n",
    "    # Grab THREDDS Data Server Catalog\n",
    "    URL = 'http://silam.fmi.fi/thredds/catalog/silam_glob_v5_7_1/catalog.xml'\n",
    "    catalog = TDSCatalog(URL)\n",
    "    \n",
    "    # NetCDF Subset Service\n",
    "    ncss = catalog.datasets[0].subset()\n",
    "    \n",
    "    # Query boundary box and variable\n",
    "    variable = 'cnc_NO2_gas'\n",
    "    west = float(os.environ.get('WEST'))\n",
    "    east = float(os.environ.get('EAST'))\n",
    "    south = float(os.environ.get('SOUTH'))\n",
    "    north = float(os.environ.get('NORTH'))\n",
    "    \n",
    "    # Create subset query\n",
    "    query = ncss.query()\n",
    "    query.variables(variable).time(obs_time)\n",
    "    query.lonlat_box(west=west, east=east, south=south, north=north)\n",
    "    data = ncss.get_data(query)\n",
    "\n",
    "    # Load to xarray Dataset\n",
    "    return xr.open_dataset(NetCDF4DataStore(data)).isel(time = 0)"
   ]
  },
  {
   "cell_type": "code",
   "execution_count": 4,
   "id": "0c007142-5414-4ddf-96ad-19394462a24a",
   "metadata": {},
   "outputs": [],
   "source": [
    "# Observation time\n",
    "obs = date.today()\n",
    "obs_time = datetime(obs.year, obs.month, obs.day, hour = 6)\n",
    "\n",
    "ds = get_nitrogen_dioxide(obs_time).isel(hybrid = 0)"
   ]
  },
  {
   "cell_type": "code",
   "execution_count": 5,
   "id": "8c002d9d-c7b6-486d-b6cf-19851077d201",
   "metadata": {},
   "outputs": [],
   "source": [
    "# Use date string as file_name\n",
    "date_string = obs.strftime('%Y%m%d')\n",
    "fname = f'no2_{date_string}.tif'\n",
    "\n",
    "# Export nitrogen dioxide as COG\n",
    "ds.cnc_NO2_gas.rio.to_raster(fname)"
   ]
  },
  {
   "cell_type": "code",
   "execution_count": null,
   "id": "5307db1f-f281-4e32-ae5b-d6063268ac84",
   "metadata": {},
   "outputs": [],
   "source": []
  }
 ],
 "metadata": {
  "kernelspec": {
   "display_name": "Python 3 (ipykernel)",
   "language": "python",
   "name": "python3"
  },
  "language_info": {
   "codemirror_mode": {
    "name": "ipython",
    "version": 3
   },
   "file_extension": ".py",
   "mimetype": "text/x-python",
   "name": "python",
   "nbconvert_exporter": "python",
   "pygments_lexer": "ipython3",
   "version": "3.9.5"
  }
 },
 "nbformat": 4,
 "nbformat_minor": 5
}
