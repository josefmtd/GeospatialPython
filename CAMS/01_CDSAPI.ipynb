{
    "cells": [
        {
            "cell_type": "code",
            "execution_count": 1,
            "source": [
                "import cdsapi\n",
                "import xarray as xr\n",
                "import rioxarray as rxr\n",
                "import numpy as np\n",
                "\n",
                "import os\n",
                "import datetime\n",
                "import requests\n",
                "\n",
                "# Suppress warnings\n",
                "requests.packages.urllib3.disable_warnings(\n",
                "    requests.packages.urllib3.exceptions.InsecureRequestWarning\n",
                ")"
            ],
            "outputs": [],
            "metadata": {}
        },
        {
            "cell_type": "code",
            "execution_count": 2,
            "source": [
                "# API Key\n",
                "os.environ['URL'] = 'https://ads.atmosphere.copernicus.eu/api/v2'\n",
                "os.environ['KEY'] = '<uid>:<key>'\n",
                "\n",
                "# Product and Variable name\n",
                "os.environ['PRODUCT'] = 'cams-global-atmospheric-composition-forecasts'\n",
                "os.environ['VARIABLE'] = 'particulate_matter_2.5um'\n",
                "\n",
                "# Area of Interest\n",
                "os.environ['WEST'] = '90.0'\n",
                "os.environ['EAST'] = '150.0'\n",
                "os.environ['NORTH'] = '15.0'\n",
                "os.environ['SOUTH'] = '-15.0'"
            ],
            "outputs": [],
            "metadata": {}
        },
        {
            "cell_type": "code",
            "execution_count": 3,
            "source": [
                "url = os.environ.get('URL')\n",
                "key = os.environ.get('KEY')\n",
                "client = cdsapi.Client(url=url, key=key)"
            ],
            "outputs": [],
            "metadata": {}
        },
        {
            "cell_type": "code",
            "execution_count": 4,
            "source": [
                "def download_latest_data(variable, forecast_hour):\n",
                "    now = datetime.datetime.utcnow()\n",
                "\n",
                "    # Calculate nearest model initialization\n",
                "    mod = now - datetime.timedelta(hours = 10)\n",
                "    obs = mod.date()\n",
                "    if mod.hour > 12:\n",
                "        base = datetime.datetime(\n",
                "            obs.year, obs.month, obs.day, 12\n",
                "        )\n",
                "        time = '12:00'\n",
                "    else:\n",
                "        base = datetime.datetime(\n",
                "            obs.year, obs.month, obs.day, 0\n",
                "        )\n",
                "        time = '00:00'\n",
                "    \n",
                "    print('Using forecast model initialized at', base.isoformat())\n",
                "\n",
                "    # Observed Datetime\n",
                "    obs_time = base + datetime.timedelta(hours = forecast_hour)\n",
                "    \n",
                "    # Area of Interest\n",
                "    bbox = [\n",
                "        float(os.environ.get('SOUTH')),\n",
                "        float(os.environ.get('WEST')),\n",
                "        float(os.environ.get('NORTH')),\n",
                "        float(os.environ.get('EAST'))\n",
                "    ]\n",
                "\n",
                "    request = {\n",
                "        'date' : f'{obs.isoformat()}/{obs.isoformat()}',\n",
                "        'variable' : variable,\n",
                "        'time' : time,\n",
                "        'leadtime_hour' : str(forecast_hour),\n",
                "        'area' : bbox,\n",
                "        'type' : 'forecast',\n",
                "        'format' : 'netcdf',\n",
                "    }\n",
                "\n",
                "    fname = f'{obs_time.strftime(\"%Y%m%dT%H\")}.nc'\n",
                "    product = os.environ.get('PRODUCT')\n",
                "    client.retrieve(product, request, fname)\n",
                "\n",
                "    return fname"
            ],
            "outputs": [],
            "metadata": {}
        },
        {
            "cell_type": "code",
            "execution_count": 5,
            "source": [
                "variable = os.environ.get('VARIABLE')\n",
                "fname = download_latest_data(variable, forecast_hour = 22)\n",
                "ds = xr.open_dataset(fname).isel(time=0)"
            ],
            "outputs": [
                {
                    "output_type": "stream",
                    "name": "stdout",
                    "text": [
                        "Using forecast model initialized at 2021-07-20T12:00:00\n"
                    ]
                },
                {
                    "output_type": "stream",
                    "name": "stderr",
                    "text": [
                        "2021-07-21 15:10:04,231 INFO Welcome to the CDS\n",
                        "2021-07-21 15:10:04,233 INFO Sending request to https://ads.atmosphere.copernicus.eu/api/v2/resources/cams-global-atmospheric-composition-forecasts\n",
                        "2021-07-21 15:10:04,950 INFO Request is queued\n",
                        "2021-07-21 15:10:06,383 INFO Request is running\n",
                        "2021-07-21 15:10:08,207 INFO Request is completed\n",
                        "2021-07-21 15:10:08,210 INFO Downloading https://download-0001.copernicus-atmosphere.eu/cache-compute-0001/cache/data9/adaptor.mars_constrained.internal-1626855005.9631948-30100-14-dcd932dc-be45-4ae5-963c-f03598087e47.nc to 20210721T10.nc (799.2K)\n",
                        "2021-07-21 15:10:13,867 INFO Download rate 141.3K/s\n"
                    ]
                }
            ],
            "metadata": {}
        },
        {
            "cell_type": "code",
            "execution_count": 6,
            "source": [
                "variables = list(ds.data_vars)\n",
                "\n",
                "for variable in variables:\n",
                "    data = ds[variable] * 1e9\n",
                "\n",
                "    date_string = os.path.splitext(fname)[0]\n",
                "    out_fname = f'{variable}_{date_string}.tif'\n",
                "    data.rio.set_spatial_dims('longitude', 'latitude', inplace=True)\n",
                "    data.rio.set_crs(4326, inplace=True)\n",
                "    data.rio.to_raster(out_fname)\n",
                "\n",
                "    os.system(f'rio cogeo create {out_fname} {out_fname}')"
            ],
            "outputs": [
                {
                    "output_type": "stream",
                    "name": "stderr",
                    "text": [
                        "/home/josef/miniconda3/envs/geo/lib/python3.9/site-packages/rio_cogeo/cogeo.py:189: IncompatibleBlockRasterSize: Block Size are bigger than raster sizes. Setting blocksize to 256\n",
                        "  warnings.warn(\n",
                        "Reading input: /home/josef/Documents/Git/GeospatialPython/CAMS/pm2p5_20210721T10.tif\n",
                        "Adding overviews...\n",
                        "Updating dataset tags...\n",
                        "Writing output to: /home/josef/Documents/Git/GeospatialPython/CAMS/pm2p5_20210721T10.tif\n"
                    ]
                }
            ],
            "metadata": {}
        }
    ],
    "metadata": {
        "orig_nbformat": 4,
        "language_info": {
            "name": "python"
        }
    },
    "nbformat": 4,
    "nbformat_minor": 2
}